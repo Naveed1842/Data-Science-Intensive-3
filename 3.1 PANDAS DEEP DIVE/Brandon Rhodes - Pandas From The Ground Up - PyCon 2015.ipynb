{
 "metadata": {
  "name": "",
  "signature": "sha256:5a541bfdb6ad07d021f7163c972bc05d0a2ee071f11466c3b5b5dc946ffbd97c"
 },
 "nbformat": 3,
 "nbformat_minor": 0,
 "worksheets": [
  {
   "cells": [
    {
     "cell_type": "heading",
     "level": 2,
     "metadata": {},
     "source": [
      "Pandas From The Ground Up-PyCon 2015"
     ]
    },
    {
     "cell_type": "code",
     "collapsed": false,
     "input": [
      "from IPython.core.display import HTML\n",
      "css = open('style-table.css').read() + open('style-notebook.csv')\n",
      "HTML('<style>{}</style>'.format(css))"
     ],
     "language": "python",
     "metadata": {},
     "outputs": []
    },
    {
     "cell_type": "code",
     "collapsed": false,
     "input": [
      "titles = pd.DataFrame.from_csv('data/titles.csv', index_col = None, encodeing='utf-8')"
     ],
     "language": "python",
     "metadata": {},
     "outputs": []
    },
    {
     "cell_type": "code",
     "collapsed": false,
     "input": [
      "cast = pd.DataFrame.from_csv('data/cast/csv', index_col = None)\n",
      "cast.head()"
     ],
     "language": "python",
     "metadata": {},
     "outputs": []
    },
    {
     "cell_type": "code",
     "collapsed": false,
     "input": [
      "# 24\n",
      "title(head)"
     ],
     "language": "python",
     "metadata": {},
     "outputs": [
      {
       "ename": "NameError",
       "evalue": "name 'head' is not defined",
       "output_type": "pyerr",
       "traceback": [
        "\u001b[1;31m---------------------------------------------------------------------------\u001b[0m\n\u001b[1;31mNameError\u001b[0m                                 Traceback (most recent call last)",
        "\u001b[1;32m<ipython-input-1-93217079ecc8>\u001b[0m in \u001b[0;36m<module>\u001b[1;34m()\u001b[0m\n\u001b[0;32m      1\u001b[0m \u001b[1;31m# 24\u001b[0m\u001b[1;33m\u001b[0m\u001b[1;33m\u001b[0m\u001b[0m\n\u001b[1;32m----> 2\u001b[1;33m \u001b[0mtitle\u001b[0m\u001b[1;33m(\u001b[0m\u001b[0mhead\u001b[0m\u001b[1;33m)\u001b[0m\u001b[1;33m\u001b[0m\u001b[0m\n\u001b[0m",
        "\u001b[1;31mNameError\u001b[0m: name 'head' is not defined"
       ]
      }
     ],
     "prompt_number": 1
    },
    {
     "cell_type": "code",
     "collapsed": false,
     "input": [
      "h['year'] + 10000"
     ],
     "language": "python",
     "metadata": {},
     "outputs": [
      {
       "ename": "NameError",
       "evalue": "name 'h' is not defined",
       "output_type": "pyerr",
       "traceback": [
        "\u001b[1;31m---------------------------------------------------------------------------\u001b[0m\n\u001b[1;31mNameError\u001b[0m                                 Traceback (most recent call last)",
        "\u001b[1;32m<ipython-input-2-f8fe26505ffc>\u001b[0m in \u001b[0;36m<module>\u001b[1;34m()\u001b[0m\n\u001b[1;32m----> 1\u001b[1;33m \u001b[0mh\u001b[0m\u001b[1;33m[\u001b[0m\u001b[1;34m'year'\u001b[0m\u001b[1;33m]\u001b[0m \u001b[1;33m+\u001b[0m \u001b[1;36m10000\u001b[0m\u001b[1;33m\u001b[0m\u001b[0m\n\u001b[0m",
        "\u001b[1;31mNameError\u001b[0m: name 'h' is not defined"
       ]
      }
     ],
     "prompt_number": 2
    },
    {
     "cell_type": "code",
     "collapsed": false,
     "input": [
      "h['year'] // 10 * 10 # showing decades"
     ],
     "language": "python",
     "metadata": {},
     "outputs": []
    },
    {
     "cell_type": "code",
     "collapsed": false,
     "input": [
      "h.year > 1985"
     ],
     "language": "python",
     "metadata": {},
     "outputs": []
    },
    {
     "cell_type": "code",
     "collapsed": false,
     "input": [
      "h[h.year < 1985]"
     ],
     "language": "python",
     "metadata": {},
     "outputs": []
    },
    {
     "cell_type": "code",
     "collapsed": false,
     "input": [
      "h[h.year < 1980 | h.year >= 1990] # and: &"
     ],
     "language": "python",
     "metadata": {},
     "outputs": []
    },
    {
     "cell_type": "code",
     "collapsed": false,
     "input": [
      "titles[titles.title == 'Macbeth'].sort('year').head() # or .tail()"
     ],
     "language": "python",
     "metadata": {},
     "outputs": []
    },
    {
     "cell_type": "code",
     "collapsed": false,
     "input": [
      "# for series\n",
      "t.year.order()"
     ],
     "language": "python",
     "metadata": {},
     "outputs": []
    },
    {
     "cell_type": "code",
     "collapsed": false,
     "input": [
      "h = cast.head()\n",
      "h[h.n.notnull()]\n",
      "h[h.n.isnull()]"
     ],
     "language": "python",
     "metadata": {},
     "outputs": []
    },
    {
     "cell_type": "code",
     "collapsed": false,
     "input": [
      "# check start with\n",
      "'Hamlet (II)'.startswith('Hamlet)"
     ],
     "language": "python",
     "metadata": {},
     "outputs": [
      {
       "ename": "SyntaxError",
       "evalue": "EOL while scanning string literal (<ipython-input-3-ecf3deecdfd4>, line 2)",
       "output_type": "pyerr",
       "traceback": [
        "\u001b[1;36m  File \u001b[1;32m\"<ipython-input-3-ecf3deecdfd4>\"\u001b[1;36m, line \u001b[1;32m2\u001b[0m\n\u001b[1;33m    'Hamlet (II)'.startswith('Hamlet)\u001b[0m\n\u001b[1;37m                                    ^\u001b[0m\n\u001b[1;31mSyntaxError\u001b[0m\u001b[1;31m:\u001b[0m EOL while scanning string literal\n"
       ]
      }
     ],
     "prompt_number": 3
    },
    {
     "cell_type": "code",
     "collapsed": false,
     "input": [
      "h.title.str.startswith('The')"
     ],
     "language": "python",
     "metadata": {},
     "outputs": []
    },
    {
     "cell_type": "code",
     "collapsed": false,
     "input": [
      "titles.year.value_counts().head() #.tail()\n",
      "titles.year.value_counts().sort_index().plot()"
     ],
     "language": "python",
     "metadata": {},
     "outputs": []
    },
    {
     "cell_type": "code",
     "collapsed": false,
     "input": [
      "c = cast\n",
      "c = [c.character == 'Kermit the Frog']\n",
      "c.plot(x='year', y ='n', kind='scatter')"
     ],
     "language": "python",
     "metadata": {},
     "outputs": []
    },
    {
     "cell_type": "code",
     "collapsed": false,
     "input": [
      "c.head([['year', 'n']])"
     ],
     "language": "python",
     "metadata": {},
     "outputs": [
      {
       "ename": "NameError",
       "evalue": "name 'c' is not defined",
       "output_type": "pyerr",
       "traceback": [
        "\u001b[1;31m---------------------------------------------------------------------------\u001b[0m\n\u001b[1;31mNameError\u001b[0m                                 Traceback (most recent call last)",
        "\u001b[1;32m<ipython-input-1-464b6c2badf0>\u001b[0m in \u001b[0;36m<module>\u001b[1;34m()\u001b[0m\n\u001b[1;32m----> 1\u001b[1;33m \u001b[0mc\u001b[0m\u001b[1;33m.\u001b[0m\u001b[0mhead\u001b[0m\u001b[1;33m(\u001b[0m\u001b[1;33m[\u001b[0m\u001b[1;33m[\u001b[0m\u001b[1;34m'year'\u001b[0m\u001b[1;33m,\u001b[0m \u001b[1;34m'n'\u001b[0m\u001b[1;33m]\u001b[0m\u001b[1;33m]\u001b[0m\u001b[1;33m)\u001b[0m\u001b[1;33m\u001b[0m\u001b[0m\n\u001b[0m",
        "\u001b[1;31mNameError\u001b[0m: name 'c' is not defined"
       ]
      }
     ],
     "prompt_number": 1
    },
    {
     "cell_type": "code",
     "collapsed": false,
     "input": [
      "%%time\n",
      "cast[cast.title == 'Sleuth']"
     ],
     "language": "python",
     "metadata": {},
     "outputs": []
    },
    {
     "cell_type": "code",
     "collapsed": false,
     "input": [
      "c = cast.set_index(['title'])\n",
      "c"
     ],
     "language": "python",
     "metadata": {},
     "outputs": []
    },
    {
     "cell_type": "code",
     "collapsed": false,
     "input": [
      "%%time\n",
      "c.loc['Sleuth']"
     ],
     "language": "python",
     "metadata": {},
     "outputs": []
    },
    {
     "cell_type": "code",
     "collapsed": false,
     "input": [
      "#faster if sorted\n",
      "c = cast.set_index(['title']).sort_index()\n",
      "c.head()\n",
      "%%time\n",
      "c.loc['Sleuth']"
     ],
     "language": "python",
     "metadata": {},
     "outputs": []
    },
    {
     "cell_type": "code",
     "collapsed": false,
     "input": [
      "# multiple index\n",
      "c = cast.set_index(['title', 'year']).sort_index()\n",
      "c.head()\n",
      "%%time\n",
      "c.loc['Sleuth'].loc[1972]\n",
      "c.loc[('Sleuth', 1972)]"
     ],
     "language": "python",
     "metadata": {},
     "outputs": []
    },
    {
     "cell_type": "code",
     "collapsed": false,
     "input": [
      "c.loc[('Sleuth', 1972)].reset_index('year') # or 'year' or ['year', 'title']"
     ],
     "language": "python",
     "metadata": {},
     "outputs": []
    },
    {
     "cell_type": "code",
     "collapsed": false,
     "input": [
      "# Groupby\n",
      "c = cast\n",
      "c = c[c.name == 'George Clooney']\n",
      "c.groupby(['title', 'year', 'character']).size()"
     ],
     "language": "python",
     "metadata": {},
     "outputs": []
    },
    {
     "cell_type": "code",
     "collapsed": false,
     "input": [
      "c = cast\n",
      "c = c[c.name == 'George Clooney']\n",
      "c.groupby(['year']).size()\n",
      "c.groupby(['year']).size().plot()\n",
      "c.groupby(['year']).size().plot(kind='bar')\n",
      "c.groupby(['year']).size().plot(ylim=0, style='*')\n",
      "#\n",
      "c.groupby(['year']).n.max()\n",
      "c.groupby(['year']).n.min()\n",
      "c.groupby(['year']).n.mean()"
     ],
     "language": "python",
     "metadata": {},
     "outputs": []
    },
    {
     "cell_type": "code",
     "collapsed": false,
     "input": [
      "# decades\n",
      "c = cast\n",
      "c = c[c.name == 'George Clooney']\n",
      "c.groupby(c.year // 10 * 10).n.size()"
     ],
     "language": "python",
     "metadata": {},
     "outputs": []
    },
    {
     "cell_type": "code",
     "collapsed": false,
     "input": [
      "c = cast\n",
      "c.groupby([c.year // 10 * 10, 'type']).size()"
     ],
     "language": "python",
     "metadata": {},
     "outputs": []
    },
    {
     "cell_type": "code",
     "collapsed": false,
     "input": [
      "# stack\n",
      "c = cast\n",
      "c = c[(c.character == 'Kermit the Frog') | (c.character == 'Oscar the Grouch')]\n",
      "g = c.groupby(['character', c.year // 10 * 10]).size()"
     ],
     "language": "python",
     "metadata": {},
     "outputs": []
    },
    {
     "cell_type": "code",
     "collapsed": false,
     "input": [
      "# unstack\n",
      "u = g.unstack() # default 1\n",
      "u = g.unstack(0)\n",
      "u = g.unstack(1)"
     ],
     "language": "python",
     "metadata": {},
     "outputs": []
    },
    {
     "cell_type": "code",
     "collapsed": false,
     "input": [
      "u['Kermit the Frog'] - u['Oscar the Grouch']\n",
      "u.stack()\n",
      "u = g.unstack(0).fillna(0)"
     ],
     "language": "python",
     "metadata": {},
     "outputs": []
    },
    {
     "cell_type": "code",
     "collapsed": false,
     "input": [
      "# unstack twice\n",
      "g.unstack('character').unstack('year')\n",
      "g.unstack('character').stack()"
     ],
     "language": "python",
     "metadata": {},
     "outputs": []
    },
    {
     "cell_type": "code",
     "collapsed": false,
     "input": [
      "df = g.unstack('character')\n",
      "df['extra'] = 1\n",
      "df = df.set_index('extra', drop=True, append=True)\n",
      "df.unstack(0)"
     ],
     "language": "python",
     "metadata": {},
     "outputs": []
    },
    {
     "cell_type": "code",
     "collapsed": false,
     "input": [
      "# Plot the difference between the number of actor roles each year and the number of actress roles each year\n",
      "# over the history of film.\n",
      "c = cast\n",
      "c = c.groupby(['year', 'type']).size()\n",
      "c = c.unstack('type')\n",
      "(c.actor - c.actress).plot()"
     ],
     "language": "python",
     "metadata": {},
     "outputs": []
    },
    {
     "cell_type": "code",
     "collapsed": false,
     "input": [
      "# Plot the fraction of roles that have been 'actor' roles each year in the history of film.\n",
      "c = cast\n",
      "c = c.groupby(['year', 'type']).size()\n",
      "c = c.unstack('type')\n",
      "(c.actor/(c.actor + c.actress)).plot(ylim=[0,1])"
     ],
     "language": "python",
     "metadata": {},
     "outputs": []
    },
    {
     "cell_type": "code",
     "collapsed": false,
     "input": [
      "# Plot the fraction of supporting (n=2) roles that have been 'actor'\n",
      "# roles each year in the history of film.\n",
      "c = cast\n",
      "c = c[c.n == 2]\n",
      "c = c.groupby(['year', 'type']).size()\n",
      "c = c.unstack('type')\n",
      "(c.actor / (c.actor + c.actress)).plot(ylim=[0,1])"
     ],
     "language": "python",
     "metadata": {},
     "outputs": []
    },
    {
     "cell_type": "code",
     "collapsed": false,
     "input": [
      "# Build a plot with a line for each rank n=1 through n=3, where the line shows what fraction of that rank's roles were \n",
      "# 'actor' roles for each year in the history of film.\n",
      "c = cast\n",
      "c = c[c.n <= 3]\n",
      "c = c.groupby(['year', 'type', 'n']).size()\n",
      "c = c.unstack('type')\n",
      "(c.actor / (c.actor + c.actress)).unstack('n').plot(ylim=[0,1])"
     ],
     "language": "python",
     "metadata": {},
     "outputs": []
    },
    {
     "cell_type": "code",
     "collapsed": false,
     "input": [
      "# Exercise 5\n",
      "r = release_dates\n",
      "r.head()\n",
      "r.date.dt.year\n",
      "r.date.dt.month\n",
      "r.date.dt.day\n",
      "r.date.dt.dayofyear\n",
      "r.date.dt.dayofweek"
     ],
     "language": "python",
     "metadata": {},
     "outputs": []
    },
    {
     "cell_type": "code",
     "collapsed": false,
     "input": [
      "release_dates.head()"
     ],
     "language": "python",
     "metadata": {},
     "outputs": []
    },
    {
     "cell_type": "code",
     "collapsed": false,
     "input": [
      "# merge\n",
      "c = cast\n",
      "c[c.name == 'Ellen Page']\n",
      "c.merge(release_dates)"
     ],
     "language": "python",
     "metadata": {},
     "outputs": []
    },
    {
     "cell_type": "code",
     "collapsed": false,
     "input": [
      "r = release_dates\n",
      "r = r[r.title.str.startswith('Star Wars: Episode')]\n",
      "r = r[r.country.str.startswith('U')]\n",
      "r.pivot('title', 'country', 'date')"
     ],
     "language": "python",
     "metadata": {},
     "outputs": []
    },
    {
     "cell_type": "code",
     "collapsed": false,
     "input": [
      "#\n",
      "c = cast\n",
      "c = c[c.n <= 2]\n",
      "c = c[c.name == 'Cary Grant']\n",
      "c.head()"
     ],
     "language": "python",
     "metadata": {},
     "outputs": []
    },
    {
     "cell_type": "code",
     "collapsed": false,
     "input": [
      "c = c.merge(cast, on=['title', 'year'])\n",
      "c = c.[c.n_y <=2]\n",
      "c = c[c.name_y != 'Cary Grant']\n",
      "# c = c[['title', 'year', 'name_x', 'name_y']]\n",
      "c"
     ],
     "language": "python",
     "metadata": {},
     "outputs": []
    },
    {
     "cell_type": "code",
     "collapsed": false,
     "input": [
      "# Exerciese 6\n",
      "sales1 = pd.read_csv('sales1.csv')\n",
      "sales1"
     ],
     "language": "python",
     "metadata": {},
     "outputs": []
    },
    {
     "cell_type": "code",
     "collapsed": false,
     "input": [
      "sales2 = pd.read_csv('sales2.csv')\n",
      "sales2.fillna('')"
     ],
     "language": "python",
     "metadata": {},
     "outputs": []
    },
    {
     "cell_type": "code",
     "collapsed": false,
     "input": [
      "# Challenge: first combine these sales together into a single dataframe, then compute how much money consumers spent on\n",
      "# each book in each currency."
     ],
     "language": "python",
     "metadata": {},
     "outputs": []
    },
    {
     "cell_type": "code",
     "collapsed": false,
     "input": [
      "sales2.head(10)\n",
      "col = sales2.Title.str.extract(r'\\((.*)\\)').fillna('')\n",
      "sales2['currency'] = col.fillna(method='bfill') # 'ffill'\n",
      "sales2"
     ],
     "language": "python",
     "metadata": {},
     "outputs": []
    }
   ],
   "metadata": {}
  }
 ]
}